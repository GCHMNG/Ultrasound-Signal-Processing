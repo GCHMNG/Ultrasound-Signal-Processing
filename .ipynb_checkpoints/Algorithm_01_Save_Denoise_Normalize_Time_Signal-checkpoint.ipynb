{
 "cells": [
  {
   "cell_type": "code",
   "execution_count": 1,
   "metadata": {},
   "outputs": [],
   "source": [
    "from Algorithm_Functions import *\n",
    "\n",
    "#Main Libraries \n",
    "import numpy as np # linear algebra\n",
    "import matplotlib.pyplot as plt\n",
    "import datetime\n",
    "import scipy.fftpack\n",
    "#import tensorflow as tf\n",
    "#from tensorflow import keras # And the tf and keras framework, thanks to Google\n",
    "#from tensorflow.python.framework import ops\n",
    "import scipy.io as io\n",
    "from io import BytesIO\n",
    "import sys, os, time\n",
    "import math\n",
    "from scipy.fft import fft, fftfreq #Fourier\n",
    "import pywt # Wavelet\n",
    "from tqdm import tqdm # for print progress <---------------------------------------------------\n",
    "#import cv2 # computer vision problems library\n",
    "from scipy.spatial import Delaunay # Delaunay triangulation <-- need it for Alpha Shape\n",
    "from skimage.restoration import denoise_wavelet #Noise\n",
    "import matplotlib.patheffects as PathEffects\n",
    "import seaborn as sns\n",
    "from sklearn.manifold import TSNE\n",
    "import time\n",
    "from IPython.display import Audio # <---- play audio\n",
    "\n",
    "#Extra Libraries \n",
    "from mpl_toolkits import mplot3d\n",
    "from sklearn.decomposition import PCA\n",
    "from sklearn.metrics.pairwise import cosine_similarity\n",
    "from sklearn.manifold import MDS\n",
    "from mpl_toolkits.mplot3d import Axes3D\n",
    "from matplotlib import colors\n",
    "from matplotlib import cm\n",
    "from scipy.spatial.distance import pdist, squareform\n",
    "import random\n",
    "import pandas as pd # data processing, CSV file I/O \n",
    "import seaborn as sns #I used sns.distplot because it has more manual properties than plt.hist()\n",
    "from scipy.stats import pearsonr #includes the PCC function\n",
    "\n",
    "\n",
    "#--------------------------------------------------------------------- Saved Raw Path\n",
    "o_1 = \"BBB_OPEN/2018_07_10-1-Results/Cavitation_data_121mV-NC_1-PRF_1.25kHz-burst_\"     # <---- spikes = 13 <------ high frequences: (10, 180)\n",
    "o_2 = \"BBB_OPEN/2018_07_10-2-Results/Cavitation_data_121mV-NC_1-PRF_1.25kHz-burst_\"     # <---- spikes = 13\n",
    "o_3 = \"BBB_OPEN/2018_07_10-3-Results/Cavitation_data_121mV-NC_1-PRF_1.25kHz-burst_\"     # <---- spikes = 13\n",
    "c_1 = \"BBB_NOT_OPEN/2018_07_10-4-Results/Cavitation_data_90mV-NC_1-PRF_1.25kHz-burst_\"  # <---- spikes = 13\n",
    "\n",
    "o_7 = \"BBB_OPEN/2018_08_06-1-Results/Cavitation_data_90mV-NC_1-PRF_3.75kHz-burst_\"      # <---- spikes = 35 \n",
    "c_2 = \"BBB_NOT_OPEN/2018_08_06-3-Results/Cavitation_data_90mV-NC_1-PRF_3.75kHz-burst_\"  # <---- spikes = 35 \n",
    "\n",
    "o_8 = \"BBB_OPEN/2018_09_06-5-Results/Cavitation_data_90mV-NC_1-PRF_1.25kHz-burst_\"      # <---- spikes = 38 <------ more low frequences: (10, 180)\n",
    "c_5 = \"BBB_NOT_OPEN/2018_09_06-4-Results/Cavitation_data_90mV-NC_1-PRF_1.25kHz-burst_\"  # <---- spikes = 38 <------ more low frequences: (10, 180)\n",
    "#------------------------------\n",
    "c_3 = \"BBB_NOT_OPEN/2018_09_05-3-Results/Cavitation_data_60mV-NC_1-PRF_1.25kHz-burst_\"  # <---- spikes = 38 <------ more low frequences: (10, 180)\n",
    "c_4 = \"BBB_NOT_OPEN/2018_09_05-5-Results/Cavitation_data_60mV-NC_1-PRF_1.25kHz-burst_\"  # <---- spikes = 38 <------ more low frequences: (10, 180)\n",
    "\n",
    "o_4 = \"BBB_OPEN/2018_07_30-1-Results/Cavitation_data_90mV-NC_1-PRF_1.25kHz-burst_\"      # <---- spikes = 38 \n",
    "o_5 = \"BBB_OPEN/2018_07_30-2-Results/Cavitation_data_90mV-NC_1-PRF_1.25kHz-burst_\"      # <---- spikes = 38\n",
    "o_6 = \"BBB_OPEN/2018_07_30-3-Results/Cavitation_data_90mV-NC_1-PRF_1.25kHz-burst_\"      # <---- spikes = 38\n",
    "\n",
    "#--------------------------------------------------------------------- Path to Save Compressed Sub Wavelet Data\n",
    "signal_o_1 = \"Data_Time_Signal_Denoised_Normalized/o_1.mat\" \n",
    "signal_o_2 = \"Data_Time_Signal_Denoised_Normalized/o_2.mat\"\n",
    "signal_o_3 = \"Data_Time_Signal_Denoised_Normalized/o_3.mat\" \n",
    "signal_o_4 = \"Data_Time_Signal_Denoised_Normalized/o_4.mat\" \n",
    "signal_o_5 = \"Data_Time_Signal_Denoised_Normalized/o_5.mat\" \n",
    "signal_o_6 = \"Data_Time_Signal_Denoised_Normalized/o_6.mat\" \n",
    "signal_o_7 = \"Data_Time_Signal_Denoised_Normalized/o_7.mat\" \n",
    "signal_o_8 = \"Data_Time_Signal_Denoised_Normalized/o_8.mat\" \n",
    "#------------------------------\n",
    "signal_c_1 = \"Data_Time_Signal_Denoised_Normalized/c_1.mat\"  \n",
    "signal_c_2 = \"Data_Time_Signal_Denoised_Normalized/c_2.mat\" \n",
    "signal_c_3 = \"Data_Time_Signal_Denoised_Normalized/c_3.mat\"\n",
    "signal_c_4 = \"Data_Time_Signal_Denoised_Normalized/c_4.mat\"\n",
    "signal_c_5 = \"Data_Time_Signal_Denoised_Normalized/c_5.mat\"\n",
    "\n",
    "dp_1 = \"D:/Ultrasound/Data/2019_02_04-10-Results/RAW_data/Cavitation_data_90mV-NC_1-PRF_1.25kHz-burst_\"\n",
    "dp_2 = \"D:/Ultrasound/Data/2019_02_04-8-Results/RAW_data/Cavitation_data_90mV-NC_1-PRF_1.25kHz-burst_\"\n",
    "dp_3 = \"D:/Ultrasound/Data/2019_02_04-9-Results/RAW_data/Cavitation_data_90mV-NC_1-PRF_1.25kHz-burst_\"\n",
    "dp_4 = \"D:/Ultrasound/Data/2019_03_13-1-Results/RAW_data/Cavitation_data_90mV-NC_1-PRF_1.25kHz-burst_\"\n",
    "dp_5 = \"D:/Ultrasound/Data/2019_04_05-1-Results/RAW_data/Cavitation_data_90mV-NC_1-PRF_1.25kHz-burst_\"\n",
    "dp_6 = \"D:/Ultrasound/Data/2019_04_05-2-Results/RAW_data/Cavitation_data_90mV-NC_1-PRF_1.25kHz-burst_\"\n",
    "dp_7 = \"D:/Ultrasound/Data/2019_04_05-3-Results/RAW_data/Cavitation_data_90mV-NC_1-PRF_1.25kHz-burst_\"\n",
    "dp_8 = \"D:/Ultrasound/Data/2019_04_05-4-Results/RAW_data/Cavitation_data_90mV-NC_1-PRF_1.25kHz-burst_\"\n",
    "dp_9 = \"D:/Ultrasound/Data/2019_04_05-5-Results/RAW_data/Cavitation_data_90mV-NC_1-PRF_1.25kHz-burst_\"\n",
    "dp_10 = \"D:/Ultrasound/Data/2019_04_10-1-Results/RAW_data/Cavitation_data_90mV-NC_1-PRF_1.25kHz-burst_\"\n",
    "dp_11 = \"D:/Ultrasound/Data/2019_04_10-2-Results/RAW_data/Cavitation_data_90mV-NC_1-PRF_1.25kHz-burst_\"\n",
    "dp_12 = \"D:/Ultrasound/Data/2019_06_25-1-Results/RAW_data/Cavitation_data_90mV-NC_1-PRF_1.25kHz-burst_\"\n",
    "dp_13 = \"D:/Ultrasound/Data/2019_06_25-2-Results/RAW_data/Cavitation_data_90mV-NC_1-PRF_1.25kHz-burst_\"\n",
    "dp_14 = \"D:/Ultrasound/Data/2019_06_25-5-Results/RAW_data/Cavitation_data_90mV-NC_1-PRF_1.25kHz-burst_\"\n",
    "dp_15 = \"D:/Ultrasound/Data/2019_07_24-1-Results/RAW_data/Cavitation_data_90mV-NC_1-PRF_1.25kHz-burst_\"\n",
    "dp_16 = \"D:/Ultrasound/Data/2019_07_24-3-Results/RAW_data/Cavitation_data_90mV-NC_1-PRF_1.25kHz-burst_\"\n",
    "dp_17 = \"D:/Ultrasound/Data/2019_07_31-1-Results/RAW_data/Cavitation_data_90mV-NC_1-PRF_1.25kHz-burst_\"\n",
    "dp_18 = \"D:/Ultrasound/Data/2019_07_31-4-Results/RAW_data/Cavitation_data_90mV-NC_1-PRF_1.25kHz-burst_\"\n",
    "dp_19 = \"D:/Ultrasound/Data/2019_07_31-5-Results/RAW_data/Cavitation_data_90mV-NC_1-PRF_1.25kHz-burst_\"\n",
    "dp_20 = \"D:/Ultrasound/Data/2019_08_07-1-Results/RAW_data/Cavitation_data_90mV-NC_1-PRF_1.25kHz-burst_\"\n",
    "dp_21 = \"D:/Ultrasound/Data/2019_08_07-3-Results/RAW_data/Cavitation_data_90mV-NC_1-PRF_1.25kHz-burst_\"\n",
    "dp_22 = \"D:/Ultrasound/Data/2019_09_11-2-Results/RAW_data/Cavitation_data_90mV-NC_1-PRF_1.25kHz-burst_\"\n",
    "dp_23 = \"D:/Ultrasound/Data/2019_10_17-2-Results/RAW_data/Cavitation_data_90mV-NC_1-PRF_1.25kHz-burst_\"\n",
    "dp_24 = \"D:/Ultrasound/Data/2019_10_17-3-Results/RAW_data/Cavitation_data_90mV-NC_1-PRF_1.25kHz-burst_\"\n",
    "\n",
    "signal_dp_1 = \"D:/Ultrasound/Data_Time_Signal_Denoised_Normalized/dp_1\"\n",
    "signal_dp_2 = \"D:/Ultrasound/Data_Time_Signal_Denoised_Normalized/dp_2\"\n",
    "signal_dp_3 = \"D:/Ultrasound/Data_Time_Signal_Denoised_Normalized/dp_3\"\n",
    "signal_dp_4 = \"D:/Ultrasound/Data_Time_Signal_Denoised_Normalized/dp_4\"\n",
    "signal_dp_5 = \"D:/Ultrasound/Data_Time_Signal_Denoised_Normalized/dp_5\"\n",
    "signal_dp_6 = \"D:/Ultrasound/Data_Time_Signal_Denoised_Normalized/dp_6\"\n",
    "signal_dp_7 = \"D:/Ultrasound/Data_Time_Signal_Denoised_Normalized/dp_7\"\n",
    "signal_dp_8 = \"D:/Ultrasound/Data_Time_Signal_Denoised_Normalized/dp_8\"\n",
    "signal_dp_9 = \"D:/Ultrasound/Data_Time_Signal_Denoised_Normalized/dp_9\"\n",
    "signal_dp_10 = \"D:/Ultrasound/Data_Time_Signal_Denoised_Normalized/dp_10\"\n",
    "signal_dp_11 = \"D:/Ultrasound/Data_Time_Signal_Denoised_Normalized/dp_11\"\n",
    "signal_dp_12 = \"D:/Ultrasound/Data_Time_Signal_Denoised_Normalized/dp_12\"\n",
    "signal_dp_13 = \"D:/Ultrasound/Data_Time_Signal_Denoised_Normalized/dp_13\"\n",
    "signal_dp_14 = \"D:/Ultrasound/Data_Time_Signal_Denoised_Normalized/dp_14\"\n",
    "signal_dp_15 = \"D:/Ultrasound/Data_Time_Signal_Denoised_Normalized/dp_15\"\n",
    "signal_dp_16 = \"D:/Ultrasound/Data_Time_Signal_Denoised_Normalized/dp_16\"\n",
    "signal_dp_17 = \"D:/Ultrasound/Data_Time_Signal_Denoised_Normalized/dp_17\"\n",
    "signal_dp_18 = \"D:/Ultrasound/Data_Time_Signal_Denoised_Normalized/dp_18\"\n",
    "signal_dp_19 = \"D:/Ultrasound/Data_Time_Signal_Denoised_Normalized/dp_19\"\n",
    "signal_dp_20 = \"D:/Ultrasound/Data_Time_Signal_Denoised_Normalized/dp_20\"\n",
    "signal_dp_21 = \"D:/Ultrasound/Data_Time_Signal_Denoised_Normalized/dp_21\"\n",
    "signal_dp_22 = \"D:/Ultrasound/Data_Time_Signal_Denoised_Normalized/dp_22\"\n",
    "signal_dp_23 = \"D:/Ultrasound/Data_Time_Signal_Denoised_Normalized/dp_23\"\n",
    "signal_dp_24 = \"D:/Ultrasound/Data_Time_Signal_Denoised_Normalized/dp_24\""
   ]
  },
  {
   "cell_type": "code",
   "execution_count": 2,
   "metadata": {},
   "outputs": [
    {
     "name": "stdout",
     "output_type": "stream",
     "text": [
      "--------------------- D:/Ultrasound/Data/2019_02_04-10-Results/RAW_data/Cavitation_data_90mV-NC_1-PRF_1.25kHz-burst_\n"
     ]
    },
    {
     "name": "stderr",
     "output_type": "stream",
     "text": [
      "100%|██████████| 125/125 [00:09<00:00, 13.64it/s]\n"
     ]
    },
    {
     "name": "stdout",
     "output_type": "stream",
     "text": [
      "SAVED Signal----------------------------------------\n",
      "--------------------- D:/Ultrasound/Data/2019_02_04-8-Results/RAW_data/Cavitation_data_90mV-NC_1-PRF_1.25kHz-burst_\n"
     ]
    },
    {
     "name": "stderr",
     "output_type": "stream",
     "text": [
      "100%|██████████| 125/125 [00:22<00:00,  5.53it/s]\n"
     ]
    },
    {
     "name": "stdout",
     "output_type": "stream",
     "text": [
      "SAVED Signal----------------------------------------\n",
      "--------------------- D:/Ultrasound/Data/2019_02_04-9-Results/RAW_data/Cavitation_data_90mV-NC_1-PRF_1.25kHz-burst_\n"
     ]
    },
    {
     "name": "stderr",
     "output_type": "stream",
     "text": [
      "100%|██████████| 125/125 [00:08<00:00, 14.40it/s]\n"
     ]
    },
    {
     "name": "stdout",
     "output_type": "stream",
     "text": [
      "SAVED Signal----------------------------------------\n",
      "--------------------- D:/Ultrasound/Data/2019_03_13-1-Results/RAW_data/Cavitation_data_90mV-NC_1-PRF_1.25kHz-burst_\n"
     ]
    },
    {
     "name": "stderr",
     "output_type": "stream",
     "text": [
      "100%|██████████| 125/125 [00:22<00:00,  5.59it/s]\n"
     ]
    },
    {
     "name": "stdout",
     "output_type": "stream",
     "text": [
      "SAVED Signal----------------------------------------\n",
      "--------------------- D:/Ultrasound/Data/2019_04_05-1-Results/RAW_data/Cavitation_data_90mV-NC_1-PRF_1.25kHz-burst_\n"
     ]
    },
    {
     "name": "stderr",
     "output_type": "stream",
     "text": [
      "100%|██████████| 125/125 [00:08<00:00, 14.35it/s]\n"
     ]
    },
    {
     "name": "stdout",
     "output_type": "stream",
     "text": [
      "SAVED Signal----------------------------------------\n",
      "--------------------- D:/Ultrasound/Data/2019_04_05-2-Results/RAW_data/Cavitation_data_90mV-NC_1-PRF_1.25kHz-burst_\n"
     ]
    },
    {
     "name": "stderr",
     "output_type": "stream",
     "text": [
      "100%|██████████| 125/125 [00:08<00:00, 14.32it/s]\n"
     ]
    },
    {
     "name": "stdout",
     "output_type": "stream",
     "text": [
      "SAVED Signal----------------------------------------\n",
      "--------------------- D:/Ultrasound/Data/2019_04_05-3-Results/RAW_data/Cavitation_data_90mV-NC_1-PRF_1.25kHz-burst_\n"
     ]
    },
    {
     "name": "stderr",
     "output_type": "stream",
     "text": [
      "100%|██████████| 125/125 [00:08<00:00, 14.29it/s]\n"
     ]
    },
    {
     "name": "stdout",
     "output_type": "stream",
     "text": [
      "SAVED Signal----------------------------------------\n",
      "--------------------- D:/Ultrasound/Data/2019_04_05-4-Results/RAW_data/Cavitation_data_90mV-NC_1-PRF_1.25kHz-burst_\n"
     ]
    },
    {
     "name": "stderr",
     "output_type": "stream",
     "text": [
      "100%|██████████| 125/125 [00:15<00:00,  8.09it/s]\n"
     ]
    },
    {
     "name": "stdout",
     "output_type": "stream",
     "text": [
      "SAVED Signal----------------------------------------\n",
      "--------------------- D:/Ultrasound/Data/2019_04_05-5-Results/RAW_data/Cavitation_data_90mV-NC_1-PRF_1.25kHz-burst_\n"
     ]
    },
    {
     "name": "stderr",
     "output_type": "stream",
     "text": [
      "100%|██████████| 125/125 [00:15<00:00,  8.07it/s]\n"
     ]
    },
    {
     "name": "stdout",
     "output_type": "stream",
     "text": [
      "SAVED Signal----------------------------------------\n",
      "--------------------- D:/Ultrasound/Data/2019_04_10-1-Results/RAW_data/Cavitation_data_90mV-NC_1-PRF_1.25kHz-burst_\n"
     ]
    },
    {
     "name": "stderr",
     "output_type": "stream",
     "text": [
      "100%|██████████| 125/125 [00:15<00:00,  8.17it/s]\n"
     ]
    },
    {
     "name": "stdout",
     "output_type": "stream",
     "text": [
      "SAVED Signal----------------------------------------\n",
      "--------------------- D:/Ultrasound/Data/2019_04_10-2-Results/RAW_data/Cavitation_data_90mV-NC_1-PRF_1.25kHz-burst_\n"
     ]
    },
    {
     "name": "stderr",
     "output_type": "stream",
     "text": [
      "100%|██████████| 125/125 [00:15<00:00,  8.21it/s]\n"
     ]
    },
    {
     "name": "stdout",
     "output_type": "stream",
     "text": [
      "SAVED Signal----------------------------------------\n",
      "--------------------- D:/Ultrasound/Data/2019_06_25-1-Results/RAW_data/Cavitation_data_90mV-NC_1-PRF_1.25kHz-burst_\n"
     ]
    },
    {
     "name": "stderr",
     "output_type": "stream",
     "text": [
      "100%|██████████| 125/125 [00:05<00:00, 21.30it/s]\n"
     ]
    },
    {
     "name": "stdout",
     "output_type": "stream",
     "text": [
      "SAVED Signal----------------------------------------\n",
      "--------------------- D:/Ultrasound/Data/2019_06_25-2-Results/RAW_data/Cavitation_data_90mV-NC_1-PRF_1.25kHz-burst_\n"
     ]
    },
    {
     "name": "stderr",
     "output_type": "stream",
     "text": [
      "100%|██████████| 125/125 [00:05<00:00, 21.67it/s]\n"
     ]
    },
    {
     "name": "stdout",
     "output_type": "stream",
     "text": [
      "SAVED Signal----------------------------------------\n",
      "--------------------- D:/Ultrasound/Data/2019_06_25-5-Results/RAW_data/Cavitation_data_90mV-NC_1-PRF_1.25kHz-burst_\n"
     ]
    },
    {
     "name": "stderr",
     "output_type": "stream",
     "text": [
      "100%|██████████| 125/125 [00:05<00:00, 21.55it/s]\n"
     ]
    },
    {
     "name": "stdout",
     "output_type": "stream",
     "text": [
      "SAVED Signal----------------------------------------\n",
      "--------------------- D:/Ultrasound/Data/2019_07_24-1-Results/RAW_data/Cavitation_data_90mV-NC_1-PRF_1.25kHz-burst_\n"
     ]
    },
    {
     "name": "stderr",
     "output_type": "stream",
     "text": [
      "100%|██████████| 125/125 [00:08<00:00, 14.04it/s]\n"
     ]
    },
    {
     "name": "stdout",
     "output_type": "stream",
     "text": [
      "SAVED Signal----------------------------------------\n",
      "--------------------- D:/Ultrasound/Data/2019_07_24-3-Results/RAW_data/Cavitation_data_90mV-NC_1-PRF_1.25kHz-burst_\n"
     ]
    },
    {
     "name": "stderr",
     "output_type": "stream",
     "text": [
      "100%|██████████| 125/125 [00:08<00:00, 14.09it/s]\n"
     ]
    },
    {
     "name": "stdout",
     "output_type": "stream",
     "text": [
      "SAVED Signal----------------------------------------\n",
      "--------------------- D:/Ultrasound/Data/2019_07_31-1-Results/RAW_data/Cavitation_data_90mV-NC_1-PRF_1.25kHz-burst_\n"
     ]
    },
    {
     "name": "stderr",
     "output_type": "stream",
     "text": [
      "100%|██████████| 125/125 [00:08<00:00, 14.03it/s]\n"
     ]
    },
    {
     "name": "stdout",
     "output_type": "stream",
     "text": [
      "SAVED Signal----------------------------------------\n",
      "--------------------- D:/Ultrasound/Data/2019_07_31-4-Results/RAW_data/Cavitation_data_90mV-NC_1-PRF_1.25kHz-burst_\n"
     ]
    },
    {
     "name": "stderr",
     "output_type": "stream",
     "text": [
      "100%|██████████| 125/125 [00:18<00:00,  6.91it/s]\n"
     ]
    },
    {
     "name": "stdout",
     "output_type": "stream",
     "text": [
      "SAVED Signal----------------------------------------\n",
      "--------------------- D:/Ultrasound/Data/2019_07_31-5-Results/RAW_data/Cavitation_data_90mV-NC_1-PRF_1.25kHz-burst_\n"
     ]
    },
    {
     "name": "stderr",
     "output_type": "stream",
     "text": [
      "100%|██████████| 125/125 [00:09<00:00, 13.32it/s]\n"
     ]
    },
    {
     "name": "stdout",
     "output_type": "stream",
     "text": [
      "SAVED Signal----------------------------------------\n",
      "--------------------- D:/Ultrasound/Data/2019_08_07-1-Results/RAW_data/Cavitation_data_90mV-NC_1-PRF_1.25kHz-burst_\n"
     ]
    },
    {
     "name": "stderr",
     "output_type": "stream",
     "text": [
      "100%|██████████| 125/125 [00:06<00:00, 19.47it/s]\n"
     ]
    },
    {
     "name": "stdout",
     "output_type": "stream",
     "text": [
      "SAVED Signal----------------------------------------\n",
      "--------------------- D:/Ultrasound/Data/2019_08_07-3-Results/RAW_data/Cavitation_data_90mV-NC_1-PRF_1.25kHz-burst_\n"
     ]
    },
    {
     "name": "stderr",
     "output_type": "stream",
     "text": [
      "100%|██████████| 125/125 [00:16<00:00,  7.65it/s]\n"
     ]
    },
    {
     "name": "stdout",
     "output_type": "stream",
     "text": [
      "SAVED Signal----------------------------------------\n",
      "--------------------- D:/Ultrasound/Data/2019_09_11-2-Results/RAW_data/Cavitation_data_90mV-NC_1-PRF_1.25kHz-burst_\n"
     ]
    },
    {
     "name": "stderr",
     "output_type": "stream",
     "text": [
      "100%|██████████| 125/125 [00:14<00:00,  8.67it/s]\n"
     ]
    },
    {
     "name": "stdout",
     "output_type": "stream",
     "text": [
      "SAVED Signal----------------------------------------\n",
      "--------------------- D:/Ultrasound/Data/2019_10_17-2-Results/RAW_data/Cavitation_data_90mV-NC_1-PRF_1.25kHz-burst_\n"
     ]
    },
    {
     "name": "stderr",
     "output_type": "stream",
     "text": [
      "100%|██████████| 125/125 [00:11<00:00, 10.90it/s]\n"
     ]
    },
    {
     "name": "stdout",
     "output_type": "stream",
     "text": [
      "SAVED Signal----------------------------------------\n",
      "--------------------- D:/Ultrasound/Data/2019_10_17-3-Results/RAW_data/Cavitation_data_90mV-NC_1-PRF_1.25kHz-burst_\n"
     ]
    },
    {
     "name": "stderr",
     "output_type": "stream",
     "text": [
      "100%|██████████| 125/125 [00:12<00:00, 10.22it/s]\n"
     ]
    },
    {
     "name": "stdout",
     "output_type": "stream",
     "text": [
      "SAVED Signal----------------------------------------\n"
     ]
    }
   ],
   "source": [
    "#--------------------------------- ALL in one\n",
    "#dataset_list = [o_1,o_2,o_3,o_4,o_5,o_6,o_7,o_8,c_1,c_2,c_3,c_4,c_5]\n",
    "#signal_list = [signal_o_1,signal_o_2,signal_o_3,signal_o_4,signal_o_5,signal_o_6,signal_o_7,signal_o_8,signal_c_1,signal_c_2,signal_c_3,signal_c_4,signal_c_5]\n",
    "dataset_list = [dp_1,dp_2,dp_3,dp_4,dp_5,dp_6,dp_7,dp_8,dp_9,dp_10,dp_11,dp_12,dp_13,dp_14,dp_15,dp_16,dp_17,dp_18,dp_19,dp_20,dp_21,dp_22,dp_23,dp_24]\n",
    "signal_list = [signal_dp_1,signal_dp_2,signal_dp_3,signal_dp_4,signal_dp_5,signal_dp_6,signal_dp_7,signal_dp_8,signal_dp_9,signal_dp_10,signal_dp_11,signal_dp_12,signal_dp_13,signal_dp_14,signal_dp_15,signal_dp_16,signal_dp_17,signal_dp_18,signal_dp_19,signal_dp_20,signal_dp_21,signal_dp_22,signal_dp_23,signal_dp_24]\n",
    "\n",
    "for l in range(0,len(dataset_list)):\n",
    "    dataset = dataset_list[l]\n",
    "    print(\"---------------------\",dataset)\n",
    "    signal_path = signal_list[l]\n",
    "    \n",
    "    denoised_normalized_signal = Read_FrequencyDenoise_Normalize_Bursts_Split(1,126,dataset,1000000,15000000) #------ Read group of Burst Data and keep filters it and normalize it\n",
    "    \n",
    "    #--------------------------------------------------- Save Denoised Normalized Signal\n",
    "    io.savemat(signal_path, mdict={'saved_data': denoised_normalized_signal})\n",
    "    print(\"SAVED Signal----------------------------------------\")"
   ]
  },
  {
   "cell_type": "code",
   "execution_count": null,
   "metadata": {},
   "outputs": [],
   "source": []
  },
  {
   "cell_type": "code",
   "execution_count": null,
   "metadata": {},
   "outputs": [],
   "source": []
  }
 ],
 "metadata": {
  "kernelspec": {
   "display_name": "Python 3 (ipykernel)",
   "language": "python",
   "name": "python3"
  },
  "language_info": {
   "codemirror_mode": {
    "name": "ipython",
    "version": 3
   },
   "file_extension": ".py",
   "mimetype": "text/x-python",
   "name": "python",
   "nbconvert_exporter": "python",
   "pygments_lexer": "ipython3",
   "version": "3.9.12"
  },
  "widgets": {
   "application/vnd.jupyter.widget-state+json": {
    "state": {},
    "version_major": 2,
    "version_minor": 0
   }
  }
 },
 "nbformat": 4,
 "nbformat_minor": 4
}
